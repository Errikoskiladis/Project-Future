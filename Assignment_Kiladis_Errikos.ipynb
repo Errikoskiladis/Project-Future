{
  "nbformat": 4,
  "nbformat_minor": 0,
  "metadata": {
    "colab": {
      "name": "Assignment Kiladis Errikos.ipynb",
      "provenance": [],
      "collapsed_sections": [
        "PPJQz3GOjslN",
        "nmVA1mDXZ9OW",
        "QetHR9Sb9CWq",
        "HFrmyxVpG-i1",
        "Dz_WJFmjM_nM"
      ],
      "toc_visible": true,
      "authorship_tag": "ABX9TyM5QvwHh6bSt7TFBIxAMIFB",
      "include_colab_link": true
    },
    "kernelspec": {
      "name": "python3",
      "display_name": "Python 3"
    },
    "language_info": {
      "name": "python"
    }
  },
  "cells": [
    {
      "cell_type": "markdown",
      "metadata": {
        "id": "view-in-github",
        "colab_type": "text"
      },
      "source": [
        "<a href=\"https://colab.research.google.com/github/Errikoskiladis/Project-Future/blob/main/Assignment_Kiladis_Errikos.ipynb\" target=\"_parent\"><img src=\"https://colab.research.google.com/assets/colab-badge.svg\" alt=\"Open In Colab\"/></a>"
      ]
    },
    {
      "cell_type": "markdown",
      "metadata": {
        "id": "tQGxndlzOval"
      },
      "source": [
        "# **1st Assignment by Kiladis Errikos** "
      ]
    },
    {
      "cell_type": "markdown",
      "metadata": {
        "id": "PPJQz3GOjslN"
      },
      "source": [
        "# **READ THE FILE**"
      ]
    },
    {
      "cell_type": "code",
      "metadata": {
        "id": "TWt5IgDLjvFl"
      },
      "source": [
        "with open(\"data.csv.data\",\"r\") as f:\n",
        "    \n",
        "    lot = f.readlines()    \n",
        "\n",
        "    lort = []\n",
        "\n",
        "    for i in lot:\n",
        "      lort.append(i[:-1].split(\",\"))\n",
        "\n",
        "    float_list = []\n",
        "    \n",
        "    row = 0 \n",
        "   \n",
        "    for k in lort:\n",
        "      column = 0\n",
        "      for w in k:\n",
        "        lort[row][column] = float(lort[row][column])\n",
        "        column += 1\n",
        "      row += 1"
      ],
      "execution_count": null,
      "outputs": []
    },
    {
      "cell_type": "markdown",
      "metadata": {
        "id": "nmVA1mDXZ9OW"
      },
      "source": [
        "# **HOW MANY ROWS & COLUMNS**"
      ]
    },
    {
      "cell_type": "code",
      "metadata": {
        "id": "d5AgklXWpfMr",
        "colab": {
          "base_uri": "https://localhost:8080/"
        },
        "outputId": "75cb6ad7-8242-474e-db17-e86944ce9380"
      },
      "source": [
        "print(f\"There are {row} rows and {column} columns\")"
      ],
      "execution_count": null,
      "outputs": [
        {
          "output_type": "stream",
          "text": [
            "There are 178 rows and 14 columns\n"
          ],
          "name": "stdout"
        }
      ]
    },
    {
      "cell_type": "markdown",
      "metadata": {
        "id": "QetHR9Sb9CWq"
      },
      "source": [
        "# **MEAN OF EACH COLUMN**"
      ]
    },
    {
      "cell_type": "code",
      "metadata": {
        "colab": {
          "base_uri": "https://localhost:8080/"
        },
        "id": "oa42CFvt9fKv",
        "outputId": "99ba1bd2-d5ac-4481-f8dc-e4e812a61cc4"
      },
      "source": [
        "means = []\n",
        "cl = 0\n",
        "for i in range(0,column):\n",
        "  rs = 0\n",
        "  sum = 0\n",
        "  for j in range(0,row):\n",
        "    sum += lort[rs][cl]\n",
        "    rs += 1\n",
        "  mean = sum/row\n",
        "  means.append(mean)\n",
        "  cl += 1\n",
        "\n",
        "  #RESULTS\n",
        "\n",
        "for t in range(0,column):\n",
        "  if t+1<10:\n",
        "    print(f\"Mean of column  {t+1}: {round(means[t], 2)}\")\n",
        "  else:\n",
        "    print(f\"Mean of column {t+1}: {round(means[t], 2)}\")\n",
        "    \n",
        "   "
      ],
      "execution_count": null,
      "outputs": [
        {
          "output_type": "stream",
          "text": [
            "Mean of column  1: 1.94\n",
            "Mean of column  2: 13.0\n",
            "Mean of column  3: 2.34\n",
            "Mean of column  4: 2.37\n",
            "Mean of column  5: 19.49\n",
            "Mean of column  6: 99.74\n",
            "Mean of column  7: 2.3\n",
            "Mean of column  8: 2.03\n",
            "Mean of column  9: 0.36\n",
            "Mean of column 10: 1.59\n",
            "Mean of column 11: 5.06\n",
            "Mean of column 12: 0.96\n",
            "Mean of column 13: 2.61\n",
            "Mean of column 14: 746.89\n"
          ],
          "name": "stdout"
        }
      ]
    },
    {
      "cell_type": "markdown",
      "metadata": {
        "id": "HFrmyxVpG-i1"
      },
      "source": [
        "# **VARIANCE OF EACH COLUMN**"
      ]
    },
    {
      "cell_type": "code",
      "metadata": {
        "colab": {
          "base_uri": "https://localhost:8080/"
        },
        "id": "Ki3a_5O0G-DO",
        "outputId": "c34464d6-abe6-427f-fe11-03e17de7c9e8"
      },
      "source": [
        "cl = 0\n",
        "variances = []\n",
        "for i in range(0,column):\n",
        "  rs = 0\n",
        "  sum = 0\n",
        "  for j in range(0,row):\n",
        "    sum += (lort[rs][cl] - means[cl])**2\n",
        "    rs += 1\n",
        "  variance = sum/row\n",
        "  variances.append(variance)\n",
        "  cl += 1\n",
        "\n",
        "  #RESULTS\n",
        "\n",
        "for t in range(0,column):\n",
        "  if t+1<10:\n",
        "    print(f\"Variance of column  {t+1}: {round(variances[t], 2)}\")\n",
        "  else:\n",
        "    print(f\"Variance of column {t+1}: {round(variances[t], 2)}\")\n",
        "  \n"
      ],
      "execution_count": null,
      "outputs": [
        {
          "output_type": "stream",
          "text": [
            "Variance of column  1: 0.6\n",
            "Variance of column  2: 0.66\n",
            "Variance of column  3: 1.24\n",
            "Variance of column  4: 0.07\n",
            "Variance of column  5: 11.09\n",
            "Variance of column  6: 202.84\n",
            "Variance of column  7: 0.39\n",
            "Variance of column  8: 0.99\n",
            "Variance of column  9: 0.02\n",
            "Variance of column 10: 0.33\n",
            "Variance of column 11: 5.34\n",
            "Variance of column 12: 0.05\n",
            "Variance of column 13: 0.5\n",
            "Variance of column 14: 98609.6\n"
          ],
          "name": "stdout"
        }
      ]
    },
    {
      "cell_type": "markdown",
      "metadata": {
        "id": "Dz_WJFmjM_nM"
      },
      "source": [
        "# **BONUS: MEDIAN OF EACH COLUMN**"
      ]
    },
    {
      "cell_type": "code",
      "metadata": {
        "id": "0-9AncCdZ4sT",
        "colab": {
          "base_uri": "https://localhost:8080/"
        },
        "outputId": "4aa9b9df-e637-4977-8501-d9d3b4bca17c"
      },
      "source": [
        "#Συνάρτηση Δείκτη\n",
        "def my_argmin(a_list):\n",
        "  my_min = a_list[0]\n",
        "  argmin = 0\n",
        "  \n",
        "  for i in range(len(a_list)):\n",
        "    if a_list[i] < my_min:\n",
        "    \n",
        "      my_min = a_list[i]\n",
        "      argmin = i\n",
        "\n",
        "  return(argmin)\n",
        "\n",
        "#Συνάρτηση Sorting\n",
        "def sorting_fun(lst):\n",
        "  sorted_lst = []\n",
        "  while len(lst) > 0:\n",
        "    sorted_lst.append(min(lst))\n",
        "    lst.pop(my_argmin(lst))\n",
        "    \n",
        "  \n",
        "  return sorted_lst\n",
        "\n",
        "#Συνάρτηση MEDIAN\n",
        "def median(clm):  #clm for column\n",
        "  sor = sorting_fun(clm)\n",
        "  if len(sor) % 2 == 0:   #ζυγό πλήθος\n",
        "    \n",
        "    n1 = int((len(sor)/2 - 1))\n",
        "    \n",
        "    n2 = int((len(sor)/2))\n",
        "\n",
        "    median1 = (sor[n1]+sor[n2])/2\n",
        "  \n",
        "  else: #μονό πλήθος\n",
        "    \n",
        "    n = int((len(sor)-1)/2)\n",
        "    \n",
        "    median1 = sor[n]\n",
        "  \n",
        "  \n",
        "  return median1\n",
        "\n",
        "#Δημιουργία Λίστας Διαμέσων\n",
        "a = []\n",
        "list_of_medians = []\n",
        "k=0\n",
        "for j in range(0,column):\n",
        "  ind = 0\n",
        "  for i in range(0,row):\n",
        "    a.append(lort[ind][k])\n",
        "    ind+=1\n",
        "  \n",
        "  list_of_medians.append(median(a))\n",
        "  a=[]\n",
        "  k += 1\n",
        "\n",
        "#results\n",
        "for t in range(0,column):\n",
        "  if t+1<10:\n",
        "    print(f\"Median of column  {t+1}: {round(list_of_medians[t], 2)}\")\n",
        "  else:\n",
        "    print(f\"Median of column {t+1}: {round(list_of_medians[t], 2)}\")\n"
      ],
      "execution_count": null,
      "outputs": [
        {
          "output_type": "stream",
          "text": [
            "Median of column  1: 2.0\n",
            "Median of column  2: 13.05\n",
            "Median of column  3: 1.87\n",
            "Median of column  4: 2.36\n",
            "Median of column  5: 19.5\n",
            "Median of column  6: 98.0\n",
            "Median of column  7: 2.35\n",
            "Median of column  8: 2.13\n",
            "Median of column  9: 0.34\n",
            "Median of column 10: 1.56\n",
            "Median of column 11: 4.69\n",
            "Median of column 12: 0.96\n",
            "Median of column 13: 2.78\n",
            "Median of column 14: 673.5\n"
          ],
          "name": "stdout"
        }
      ]
    }
  ]
}